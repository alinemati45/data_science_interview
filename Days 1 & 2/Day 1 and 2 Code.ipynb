{
 "cells": [
  {
   "cell_type": "code",
   "execution_count": 1,
   "metadata": {},
   "outputs": [
    {
     "data": {
      "text/plain": [
       "Index(['sepal_length', 'sepal_width', 'petal_length', 'petal_width',\n",
       "       'species'],\n",
       "      dtype='object')"
      ]
     },
     "execution_count": 1,
     "metadata": {},
     "output_type": "execute_result"
    }
   ],
   "source": [
    "#!/usr/bin/env python\n",
    "# coding: utf-8\n",
    "# # Supervised Learning Algorithms: Naive Bayes classifiers\n",
    "# *In this template, only **data input** and **input/target variables** need to␣\n",
    "#  be specified (see \"Data Input & Variables\" section for further instructions).␣\n",
    "#  None of the other sections needs to be adjusted. As a data input example, .csv file from IBM Box web repository is used.*\n",
    "# ## 1. Libraries\n",
    "# *Run to import the required libraries.*\n",
    "# In[1]:\n",
    "import pandas as pd\n",
    "from sklearn.model_selection import train_test_split\n",
    "\n",
    "# ## 2. Data Input and Variables\n",
    "# *Define the data input as well as the input (X) and target (y) variables and␣\n",
    "# ,→ run the code. Do not change the data & variable names **['df', 'X', 'y']** as␣\n",
    "# ,→ they are used in further sections.*\n",
    "# In[2]:\n",
    "### Data Input\n",
    "# df =\n",
    "### Defining Variables\n",
    "# X =\n",
    "# y =\n",
    "### Data Input Example\n",
    "df = pd.read_csv('iris.csv' , error_bad_lines=False)\n",
    "df.columns"
   ]
  },
  {
   "cell_type": "code",
   "execution_count": 2,
   "metadata": {},
   "outputs": [
    {
     "data": {
      "text/plain": [
       "(False, False)"
      ]
     },
     "execution_count": 2,
     "metadata": {},
     "output_type": "execute_result"
    }
   ],
   "source": [
    "X = df[['sepal_length', 'sepal_width' , 'petal_length' , 'petal_width']]\n",
    "y = df['species']\n",
    "X.isnull().values.any() , y.isnull().values.any()"
   ]
  },
  {
   "cell_type": "code",
   "execution_count": 3,
   "metadata": {},
   "outputs": [
    {
     "name": "stdout",
     "output_type": "stream",
     "text": [
      "[0 0 0 0 0 0 0 0 0 0 0 0 0 0 0 0 0 0 0 0 0 0 0 0 0 0 0 0 0 0 0 0 0 0 0 0 0\n",
      " 0 0 0 0 0 0 0 0 0 0 0 0 0 1 1 1 1 1 1 1 1 1 1 1 1 1 1 1 1 1 1 1 1 1 1 1 1\n",
      " 1 1 1 1 1 1 1 1 1 1 1 1 1 1 1 1 1 1 1 1 1 1 1 1 1 1 2 2 2 2 2 2 2 2 2 2 2\n",
      " 2 2 2 2 2 2 2 2 2 2 2 2 2 2 2 2 2 2 2 2 2 2 2 2 2 2 2 2 2 2 2 2 2 2 2 2 2\n",
      " 2 2]\n"
     ]
    }
   ],
   "source": [
    "from sklearn.preprocessing import LabelEncoder\n",
    "\n",
    "label_encoder = LabelEncoder()\n",
    "y = label_encoder.fit_transform(y)\n",
    "print(y)"
   ]
  },
  {
   "cell_type": "code",
   "execution_count": 4,
   "metadata": {},
   "outputs": [
    {
     "data": {
      "text/plain": [
       "sepal_length    0\n",
       "sepal_width     0\n",
       "petal_length    0\n",
       "petal_width     0\n",
       "dtype: int64"
      ]
     },
     "execution_count": 4,
     "metadata": {},
     "output_type": "execute_result"
    }
   ],
   "source": [
    "X.isnull().sum()"
   ]
  },
  {
   "cell_type": "markdown",
   "metadata": {},
   "source": [
    "GaussianNB"
   ]
  },
  {
   "cell_type": "code",
   "execution_count": 5,
   "metadata": {},
   "outputs": [
    {
     "name": "stdout",
     "output_type": "stream",
     "text": [
      "Breast cancer dataset\n",
      "Accuracy of GaussianNB classifier on training set: 0.95\n",
      "Accuracy of GaussianNB classifier on test set: 1.00\n"
     ]
    }
   ],
   "source": [
    "from sklearn.naive_bayes import GaussianNB\n",
    "X_train, X_test, y_train, y_test = train_test_split(X, y, random_state = 0)\n",
    "nbclf = GaussianNB().fit(X_train, y_train)\n",
    "print('Breast cancer dataset')\n",
    "print('Accuracy of GaussianNB classifier on training set: {:.2f}'.format(nbclf.score(X_train, y_train)))\n",
    "print('Accuracy of GaussianNB classifier on test set: {:.2f}'.format(nbclf.score(X_test, y_test)))"
   ]
  },
  {
   "cell_type": "markdown",
   "metadata": {},
   "source": [
    "LogisticRegression"
   ]
  },
  {
   "cell_type": "code",
   "execution_count": 6,
   "metadata": {},
   "outputs": [
    {
     "name": "stdout",
     "output_type": "stream",
     "text": [
      "Accuracy of Logistic regression classifier on training set: 0.95\n",
      "Accuracy of Logistic regression classifier on test set: 0.87\n"
     ]
    }
   ],
   "source": [
    "from sklearn.linear_model import LogisticRegression\n",
    "clf = LogisticRegression().fit(X_train, y_train)\n",
    "print('Accuracy of Logistic regression classifier on training set: {:.2f}'.format(clf.score(X_train, y_train)))\n",
    "print('Accuracy of Logistic regression classifier on test set: {:.2f}'.format(clf.score(X_test, y_test)))"
   ]
  },
  {
   "cell_type": "code",
   "execution_count": 7,
   "metadata": {},
   "outputs": [
    {
     "name": "stdout",
     "output_type": "stream",
     "text": [
      "Logistic Regression with C = 0.1\n",
      "Accuracy of Logistic regression classifier on training set: 0.72\n",
      "Accuracy of Logistic regression classifier on test set: 0.63\n",
      "\n",
      "Logistic Regression with C = 1\n",
      "Accuracy of Logistic regression classifier on training set: 0.95\n",
      "Accuracy of Logistic regression classifier on test set: 0.87\n",
      "\n",
      "Logistic Regression with C = 100\n",
      "Accuracy of Logistic regression classifier on training set: 0.99\n",
      "Accuracy of Logistic regression classifier on test set: 0.97\n",
      "\n"
     ]
    }
   ],
   "source": [
    "for this_C in [0.1, 1, 100]:\n",
    "    clf = LogisticRegression(C=this_C).fit(X_train, y_train)\n",
    "    print('Logistic Regression with C = {}'.format(this_C))\n",
    "    print('Accuracy of Logistic regression classifier on training set: {:.2f}'\n",
    "    .format(clf.score(X_train, y_train)))\n",
    "    print('Accuracy of Logistic regression classifier on test set: {:.2f}\\n'\n",
    "    .format(clf.score(X_test, y_test)))"
   ]
  },
  {
   "cell_type": "markdown",
   "metadata": {},
   "source": [
    "# Apply model"
   ]
  },
  {
   "cell_type": "code",
   "execution_count": 10,
   "metadata": {},
   "outputs": [],
   "source": [
    "\n",
    "from sklearn.linear_model import LinearRegression\n",
    "linreg = LinearRegression()\n",
    "linreg = linreg.fit(X_train, y_train)\n",
    "# *To Predict our test data (unseen data)*\n",
    "y_pred=linreg.predict(X_test)"
   ]
  },
  {
   "cell_type": "code",
   "execution_count": 11,
   "metadata": {},
   "outputs": [
    {
     "data": {
      "text/plain": [
       "((38,), (38,))"
      ]
     },
     "execution_count": 11,
     "metadata": {},
     "output_type": "execute_result"
    }
   ],
   "source": [
    "y_pred.shape , y_test.shape"
   ]
  },
  {
   "cell_type": "code",
   "execution_count": 14,
   "metadata": {},
   "outputs": [
    {
     "name": "stdout",
     "output_type": "stream",
     "text": [
      "linear model coeff (w): [-0.15335593 -0.0256293   0.26759594  0.57153645]  are the coefficient for each column or A.\n",
      "linear model intercept (b): 0.302  is our intercept or B.\n",
      " X is the predictor\n",
      "R-squared score (training): 0.940\n",
      "R-squared score (test): 1.000\n",
      "mean_squared_error 0.06311996089112892\n"
     ]
    }
   ],
   "source": [
    "from sklearn.metrics import mean_squared_error \n",
    "\n",
    "\n",
    "print('linear model coeff (w): {}'.format(linreg.coef_) , \" are the coefficient for each column or A.\")\n",
    "print('linear model intercept (b): {:.3f}'.format(linreg.intercept_) , \" is our intercept or B.\")\n",
    "print(\" X is the predictor\")\n",
    "\n",
    "print('R-squared score (training): {:.3f}' .format(linreg.score(X_train, y_train)))\n",
    "print('R-squared score (test): {:.3f}'.format(linreg.score(X_test,y_pred)))\n",
    "print('mean_squared_error' , mean_squared_error(y_pred,y_test) )"
   ]
  },
  {
   "cell_type": "markdown",
   "metadata": {},
   "source": [
    "# OLS  Stats Model (Ordinary Least Square)"
   ]
  },
  {
   "cell_type": "code",
   "execution_count": 15,
   "metadata": {},
   "outputs": [
    {
     "name": "stdout",
     "output_type": "stream",
     "text": [
      "                                 OLS Regression Results                                \n",
      "=======================================================================================\n",
      "Dep. Variable:                      y   R-squared (uncentered):                   0.972\n",
      "Model:                            OLS   Adj. R-squared (uncentered):              0.971\n",
      "Method:                 Least Squares   F-statistic:                              1267.\n",
      "Date:                Thu, 30 Jul 2020   Prob (F-statistic):                   3.16e-112\n",
      "Time:                        21:29:48   Log-Likelihood:                          17.013\n",
      "No. Observations:                 150   AIC:                                     -26.03\n",
      "Df Residuals:                     146   BIC:                                     -13.98\n",
      "Df Model:                           4                                                  \n",
      "Covariance Type:            nonrobust                                                  \n",
      "================================================================================\n",
      "                   coef    std err          t      P>|t|      [0.025      0.975]\n",
      "--------------------------------------------------------------------------------\n",
      "sepal_length    -0.0815      0.049     -1.654      0.100      -0.179       0.016\n",
      "sepal_width     -0.0272      0.057     -0.476      0.635      -0.140       0.086\n",
      "petal_length     0.2232      0.057      3.928      0.000       0.111       0.336\n",
      "petal_width      0.5997      0.094      6.393      0.000       0.414       0.785\n",
      "==============================================================================\n",
      "Omnibus:                        0.374   Durbin-Watson:                   1.143\n",
      "Prob(Omnibus):                  0.829   Jarque-Bera (JB):                0.122\n",
      "Skew:                          -0.026   Prob(JB):                        0.941\n",
      "Kurtosis:                       3.129   Cond. No.                         51.1\n",
      "==============================================================================\n",
      "\n",
      "Warnings:\n",
      "[1] Standard Errors assume that the covariance matrix of the errors is correctly specified.\n"
     ]
    }
   ],
   "source": [
    "%matplotlib inline\n",
    "import numpy as np\n",
    "\n",
    "import numpy as np\n",
    "import statsmodels.api as sm\n",
    "import matplotlib.pyplot as plt\n",
    "from statsmodels.sandbox.regression.predstd import wls_prediction_std\n",
    "\n",
    "model = sm.OLS(y, X)\n",
    "\n",
    "results = model.fit()\n",
    "print(results.summary())"
   ]
  },
  {
   "cell_type": "code",
   "execution_count": 16,
   "metadata": {},
   "outputs": [
    {
     "name": "stdout",
     "output_type": "stream",
     "text": [
      "Parameters:  sepal_length   -0.081525\n",
      "sepal_width    -0.027189\n",
      "petal_length    0.223239\n",
      "petal_width     0.599717\n",
      "dtype: float64\n",
      "R2:  0.971999935497574\n",
      "mean_squared_error 0.047945315928811565\n"
     ]
    },
    {
     "data": {
      "image/png": "[encoded data removed]",
      "text/plain": [
       "<Figure size 576x432 with 1 Axes>"
      ]
     },
     "metadata": {
      "needs_background": "light"
     },
     "output_type": "display_data"
    }
   ],
   "source": [
    "print('Parameters: ', results.params)\n",
    "print('R2: ', results.rsquared)\n",
    "print('mean_squared_error' , results.mse_resid )\n",
    "prstd, iv_l, iv_u = wls_prediction_std(results)\n",
    "fig, ax = plt.subplots(figsize=(8,6))\n",
    "ax.plot(X, y, 'b-o', label=\"data\")\n",
    "# ax.plot(x, y, 'b-', label=\"True\")\n",
    "ax.plot(X, results.fittedvalues, 'r--.', label=\"OLS\")\n",
    "ax.plot(X, iv_u, 'r--')\n",
    "ax.plot(X, iv_l, 'r--')\n",
    "ax.legend(loc='best');"
   ]
  },
  {
   "cell_type": "markdown",
   "metadata": {},
   "source": [
    "# Run Logistic Regression With A L1 Penalty With Various Regularization Strengths\n",
    "The usefulness of L1 is that it can push feature coefficients to 0, creating a method for feature selection. In the code below we run a logistic regression with a L1 penalty four times, each time decreasing the value of C. We should expect that as C decreases, more coefficients become 0.\n"
   ]
  },
  {
   "cell_type": "markdown",
   "metadata": {},
   "source": [
    "## Standardize Features\n",
    "Because the regularization penalty is comprised of the sum of the absolute value of the coefficients, we need to scale the data so the coefficients are all based on the same scale."
   ]
  },
  {
   "cell_type": "code",
   "execution_count": 18,
   "metadata": {},
   "outputs": [],
   "source": [
    "from sklearn.preprocessing import StandardScaler\n",
    "# Create a scaler object\n",
    "sc = StandardScaler()\n",
    "\n",
    "# Fit the scaler to the training data and transform\n",
    "X_train_std = sc.fit_transform(X_train)\n",
    "\n",
    "# Apply the scaler to the test data\n",
    "X_test_std = sc.transform(X_test)"
   ]
  },
  {
   "cell_type": "code",
   "execution_count": 19,
   "metadata": {},
   "outputs": [
    {
     "name": "stdout",
     "output_type": "stream",
     "text": [
      "C: 10\n",
      "Coefficient of each feature: [[ 0.11894325  3.75715209 -4.46659507  0.        ]\n",
      " [-0.23670367 -2.43158822  1.25831978 -2.67723379]\n",
      " [-4.79596004 -3.78041713  8.07142307  7.05712901]]\n",
      "Training accuracy: 0.5714285714285714\n",
      "Test accuracy: 0.7631578947368421\n",
      "C: 1\n",
      "Coefficient of each feature: [[ 0.          2.34936076 -2.64970296  0.        ]\n",
      " [ 0.41880849 -1.48297064  0.42509202 -1.14899754]\n",
      " [-3.07932273 -1.46580515  3.76867588  3.21546221]]\n",
      "Training accuracy: 0.7946428571428571\n",
      "Test accuracy: 0.7894736842105263\n",
      "C: 0.1\n",
      "Coefficient of each feature: [[ 0.          0.93802845 -1.15697725  0.        ]\n",
      " [ 0.         -0.26934147  0.00162508  0.        ]\n",
      " [-0.79977408  0.          1.07219139  0.        ]]\n",
      "Training accuracy: 0.7767857142857143\n",
      "Test accuracy: 0.7368421052631579\n",
      "C: 0.001\n",
      "Coefficient of each feature: [[0. 0. 0. 0.]\n",
      " [0. 0. 0. 0.]\n",
      " [0. 0. 0. 0.]]\n",
      "Training accuracy: 0.33035714285714285\n",
      "Test accuracy: 0.34210526315789475\n"
     ]
    }
   ],
   "source": [
    "from sklearn.linear_model import LogisticRegression\n",
    "\n",
    "C = [10, 1, .1, .001]\n",
    "\n",
    "for c in C:\n",
    "    clf = LogisticRegression(penalty='l1', C=c, solver='liblinear')\n",
    "    clf.fit(X_train, y_train)\n",
    "    print('C:', c)\n",
    "    print('Coefficient of each feature:', clf.coef_)\n",
    "    print('Training accuracy:', clf.score(X_train_std, y_train))\n",
    "    print('Test accuracy:', clf.score(X_test_std, y_test))"
   ]
  },
  {
   "cell_type": "markdown",
   "metadata": {},
   "source": [
    "# L2"
   ]
  },
  {
   "cell_type": "code",
   "execution_count": 20,
   "metadata": {},
   "outputs": [
    {
     "name": "stdout",
     "output_type": "stream",
     "text": [
      "C: 10\n",
      "Coefficient of each feature: [[ 0.64961742  2.10275763 -3.36528383 -1.55600042]\n",
      " [ 0.04045115 -2.12726045  1.08131336 -2.4643093 ]\n",
      " [-3.44600782 -2.52921959  5.04455429  4.58053786]]\n",
      "Training accuracy: 0.8303571428571429\n",
      "Test accuracy: 0.8157894736842105\n",
      "C: 1\n",
      "Coefficient of each feature: [[ 0.40385719  1.34115677 -2.13187622 -0.96502847]\n",
      " [ 0.36002935 -1.41696832  0.47076324 -1.18255777]\n",
      " [-1.66479735 -1.24261811  2.38777713  2.15916026]]\n",
      "Training accuracy: 0.9196428571428571\n",
      "Test accuracy: 0.868421052631579\n",
      "C: 0.1\n",
      "Coefficient of each feature: [[ 0.19576938  0.68592691 -1.12320524 -0.50952528]\n",
      " [-0.01121761 -0.50371762  0.22440751 -0.16500504]\n",
      " [-0.54739677 -0.5067795   0.87575689  0.66640326]]\n",
      "Training accuracy: 0.8482142857142857\n",
      "Test accuracy: 0.8157894736842105\n",
      "C: 0.001\n",
      "Coefficient of each feature: [[-0.04317574  0.0041279  -0.08624475 -0.03529754]\n",
      " [-0.04904421 -0.03677981 -0.01678884 -0.00646813]\n",
      " [-0.03118903 -0.03431253  0.03060505  0.01948828]]\n",
      "Training accuracy: 0.8125\n",
      "Test accuracy: 0.6578947368421053\n"
     ]
    }
   ],
   "source": [
    "from sklearn.linear_model import LogisticRegression\n",
    "\n",
    "C = [10, 1, .1, .001]\n",
    "\n",
    "for c in C:\n",
    "    clf = LogisticRegression(penalty='l2', C=c, solver='liblinear')\n",
    "    clf.fit(X_train, y_train)\n",
    "    print('C:', c)\n",
    "    print('Coefficient of each feature:', clf.coef_)\n",
    "    print('Training accuracy:', clf.score(X_train_std, y_train))\n",
    "    print('Test accuracy:', clf.score(X_test_std, y_test))"
   ]
  },
  {
   "cell_type": "markdown",
   "metadata": {},
   "source": [
    "# Implementing L1 and L2 regularization using Sklearn"
   ]
  },
  {
   "cell_type": "code",
   "execution_count": 21,
   "metadata": {},
   "outputs": [],
   "source": [
    "import pandas as pd \n",
    "import numpy as np \n",
    "import matplotlib.pyplot as plt \n",
    "from sklearn.linear_model import LinearRegression, Ridge, Lasso \n",
    "from sklearn.model_selection import train_test_split, cross_val_score \n",
    "from statistics import mean \n",
    "# Changing the working location to the location of the data \n",
    "\n",
    "# Loading the data into a Pandas DataFrame \n",
    "data = pd.read_csv('kc_house_data.csv') \n",
    "\n",
    "# Dropping the numerically non-sensical variables \n",
    "dropColumns = ['id', 'date', 'zipcode'] \n",
    "data = data.drop(dropColumns, axis = 1) \n",
    "\n",
    "# Separating the dependent and independent variables \n",
    "y = data['price'] \n",
    "X = data.drop('price', axis = 1) \n",
    "\n",
    "# Dividing the data into training and testing set \n",
    "X_train, X_test, y_train, y_test = train_test_split(X, y, test_size = 0.25) \n"
   ]
  },
  {
   "cell_type": "code",
   "execution_count": 22,
   "metadata": {},
   "outputs": [],
   "source": [
    "# Bulding and fitting the Linear Regression model "
   ]
  },
  {
   "cell_type": "code",
   "execution_count": 23,
   "metadata": {},
   "outputs": [
    {
     "name": "stdout",
     "output_type": "stream",
     "text": [
      "0.6912681108178521\n"
     ]
    }
   ],
   "source": [
    "\n",
    "linearModel = LinearRegression() \n",
    "linearModel.fit(X_train, y_train) \n",
    "\n",
    "# Evaluating the Linear Regression model \n",
    "print(linearModel.score(X_test, y_test)) \n"
   ]
  },
  {
   "cell_type": "markdown",
   "metadata": {},
   "source": [
    "# Ridge(L2) Regression"
   ]
  },
  {
   "cell_type": "code",
   "execution_count": 24,
   "metadata": {},
   "outputs": [
    {
     "name": "stdout",
     "output_type": "stream",
     "text": [
      "0.25 : 69.0894970827475\n",
      "0.5 : 69.08967368534029\n",
      "0.75 : 69.08983055347754\n",
      "1.0 : 69.08996788991834\n",
      "1.25 : 69.09008589509749\n",
      "1.5 : 69.09018476715721\n",
      "1.75 : 69.09026470197706\n",
      "2.0 : 69.09032589320454\n"
     ]
    }
   ],
   "source": [
    "# List to maintain the different cross-validation scores \n",
    "cross_val_scores_ridge = [] \n",
    "\n",
    "# List to maintain the different values of alpha \n",
    "alpha = [] \n",
    "\n",
    "# Loop to compute the different values of cross-validation scores \n",
    "for i in range(1, 9): \n",
    "\tridgeModel = Ridge(alpha = i * 0.25) \n",
    "\tridgeModel.fit(X_train, y_train) \n",
    "\tscores = cross_val_score(ridgeModel, X, y, cv = 10) \n",
    "\tavg_cross_val_score = mean(scores)*100\n",
    "\tcross_val_scores_ridge.append(avg_cross_val_score) \n",
    "\talpha.append(i * 0.25) \n",
    "\n",
    "# Loop to print the different values of cross-validation scores \n",
    "for i in range(0, len(alpha)): \n",
    "\tprint(str(alpha[i])+' : '+str(cross_val_scores_ridge[i])) \n"
   ]
  },
  {
   "cell_type": "code",
   "execution_count": 25,
   "metadata": {},
   "outputs": [
    {
     "name": "stdout",
     "output_type": "stream",
     "text": [
      "0.6915366748436987\n"
     ]
    }
   ],
   "source": [
    "# Building and fitting the Ridge Regression model \n",
    "ridgeModelChosen = Ridge(alpha = 2) \n",
    "ridgeModelChosen.fit(X_train, y_train) \n",
    "\n",
    "# Evaluating the Ridge Regression model \n",
    "print(ridgeModelChosen.score(X_test, y_test)) "
   ]
  },
  {
   "cell_type": "markdown",
   "metadata": {},
   "source": [
    "# Lasso(L1) Regression"
   ]
  },
  {
   "cell_type": "code",
   "execution_count": 26,
   "metadata": {},
   "outputs": [
    {
     "name": "stdout",
     "output_type": "stream",
     "text": [
      "0.25 : 69.08930606161523\n",
      "0.5 : 69.08931155961115\n",
      "0.75 : 69.08931702962538\n",
      "1.0 : 69.08932247306784\n",
      "1.25 : 69.08932788218644\n",
      "1.5 : 69.08933326415631\n",
      "1.75 : 69.08933863324987\n",
      "2.0 : 69.08934395591861\n"
     ]
    }
   ],
   "source": [
    "# List to maintain the cross-validation scores \n",
    "cross_val_scores_lasso = [] \n",
    "\n",
    "# List to maintain the different values of Lambda \n",
    "Lambda = [] \n",
    "\n",
    "# Loop to compute the cross-validation scores \n",
    "for i in range(1, 9): \n",
    "\tlassoModel = Lasso(alpha = i * 0.25, tol = 0.0925) \n",
    "\tlassoModel.fit(X_train, y_train) \n",
    "\tscores = cross_val_score(lassoModel, X, y, cv = 10) \n",
    "\tavg_cross_val_score = mean(scores)*100\n",
    "\tcross_val_scores_lasso.append(avg_cross_val_score) \n",
    "\tLambda.append(i * 0.25) \n",
    "\n",
    "# Loop to print the different values of cross-validation scores \n",
    "for i in range(0, len(alpha)): \n",
    "\tprint(str(alpha[i])+' : '+str(cross_val_scores_lasso[i])) \n"
   ]
  },
  {
   "cell_type": "code",
   "execution_count": 27,
   "metadata": {},
   "outputs": [
    {
     "name": "stdout",
     "output_type": "stream",
     "text": [
      "0.6912769981930384\n"
     ]
    }
   ],
   "source": [
    "# From the above output, we can conclude that the best value of lambda is 2.\n",
    "\n",
    "# Building and fitting the Lasso Regression Model \n",
    "lassoModelChosen = Lasso(alpha = 2, tol = 0.0925) \n",
    "lassoModelChosen.fit(X_train, y_train) \n",
    "  \n",
    "# Evaluating the Lasso Regression model \n",
    "print(lassoModelChosen.score(X_test, y_test)) "
   ]
  },
  {
   "cell_type": "code",
   "execution_count": 28,
   "metadata": {},
   "outputs": [],
   "source": [
    "import warnings\n",
    "warnings.filterwarnings(\"ignore\")"
   ]
  },
  {
   "cell_type": "markdown",
   "metadata": {},
   "source": [
    "# ElasticNet"
   ]
  },
  {
   "cell_type": "code",
   "execution_count": 29,
   "metadata": {},
   "outputs": [
    {
     "name": "stdout",
     "output_type": "stream",
     "text": [
      "0.25 : 64.08702924741972\n",
      "0.5 : 62.95483130892897\n",
      "0.75 : 62.111088516150915\n",
      "1.0 : 61.4022541170832\n",
      "1.25 : 60.79300522056137\n",
      "1.5 : 60.26436211408361\n",
      "1.75 : 59.80235842348141\n",
      "2.0 : 59.3959170619804\n"
     ]
    }
   ],
   "source": [
    "from sklearn.linear_model import ElasticNet\n",
    "\n",
    "\n",
    "# List to maintain the cross-validation scores \n",
    "cross_val_scores_lasso = [] \n",
    "\n",
    "# List to maintain the different values of Lambda \n",
    "Lambda = [] \n",
    "\n",
    "# Loop to compute the cross-validation scores \n",
    "for i in range(1, 9): \n",
    "\tElasticNetModel = ElasticNet(alpha = i * 0.25, tol = 0.0925 ) \n",
    "\tElasticNetModel.fit(X_train, y_train) \n",
    "\tscores = cross_val_score(ElasticNetModel, X, y, cv = 10) \n",
    "\tavg_cross_val_score = mean(scores)*100\n",
    "\tcross_val_scores_lasso.append(avg_cross_val_score) \n",
    "\tLambda.append(i * 0.25) \n",
    "\n",
    "# Loop to print the different values of cross-validation scores \n",
    "for i in range(0, len(alpha)): \n",
    "\tprint(str(alpha[i])+' : '+str(cross_val_scores_lasso[i])) \n"
   ]
  },
  {
   "cell_type": "code",
   "execution_count": 30,
   "metadata": {},
   "outputs": [
    {
     "name": "stdout",
     "output_type": "stream",
     "text": [
      "0.6602050273909618\n"
     ]
    }
   ],
   "source": [
    "# From the above output, we can conclude that the best value of lambda is 2.\n",
    "\n",
    "# Building and fitting the Lasso Regression Model \n",
    "ElasticNetModelChosen = ElasticNet(alpha = 0.2, tol = 0.0925) \n",
    "ElasticNetModelChosen.fit(X_train, y_train) \n",
    "  \n",
    "# Evaluating the Lasso Regression model \n",
    "print(ElasticNetModelChosen.score(X_test, y_test)) "
   ]
  },
  {
   "cell_type": "code",
   "execution_count": 31,
   "metadata": {},
   "outputs": [
    {
     "name": "stdout",
     "output_type": "stream",
     "text": [
      "Linear Regreesion : 0.6912681108178521\n",
      "Ridge Regreesion : 0.6915366748436987\n",
      "Lasso Regression : 0.6912769981930384\n",
      "ElasticNet Regression : 0.6602050273909618\n"
     ]
    }
   ],
   "source": [
    "# Building the two lists for visualization \n",
    "models = ['Linear Regression', 'Ridge Regression', 'Lasso Regression' , 'ElasticNet Regression'] \n",
    "scores = [linearModel.score(X_test, y_test), \n",
    "\t\tridgeModelChosen.score(X_test, y_test), \n",
    "\t\tlassoModelChosen.score(X_test, y_test) , \n",
    "        ElasticNetModelChosen.score(X_test, y_test)] \n",
    "\n",
    "# Building the dictionary to compare the scores \n",
    "mapping = {} \n",
    "mapping['Linear Regreesion'] = linearModel.score(X_test, y_test) \n",
    "mapping['Ridge Regreesion'] = ridgeModelChosen.score(X_test, y_test) \n",
    "mapping['Lasso Regression'] = lassoModelChosen.score(X_test, y_test) \n",
    "mapping['ElasticNet Regression'] = ElasticNetModelChosen.score(X_test, y_test) \n",
    "\n",
    "# Printing the scores for different models \n",
    "for key, val in mapping.items(): \n",
    "\tprint(str(key)+' : '+str(val)) \n"
   ]
  },
  {
   "cell_type": "code",
   "execution_count": null,
   "metadata": {},
   "outputs": [],
   "source": [
    "max(scores)"
   ]
  },
  {
   "cell_type": "code",
   "execution_count": 32,
   "metadata": {},
   "outputs": [
    {
     "data": {
      "image/png": "[encoded data removed]",
      "text/plain": [
       "<Figure size 432x288 with 1 Axes>"
      ]
     },
     "metadata": {
      "needs_background": "light"
     },
     "output_type": "display_data"
    }
   ],
   "source": [
    "# Plotting the scores \n",
    "plt.bar(models, scores) \n",
    "plt.xlabel('Regression Models') \n",
    "plt.ylabel('Score') \n",
    "plt.show() \n"
   ]
  },
  {
   "cell_type": "markdown",
   "metadata": {},
   "source": [
    "# ZCA"
   ]
  },
  {
   "cell_type": "code",
   "execution_count": 33,
   "metadata": {},
   "outputs": [
    {
     "ename": "NameError",
     "evalue": "name 'mse_model' is not defined",
     "output_type": "error",
     "traceback": [
      "\u001b[0;31m---------------------------------------------------------------------------\u001b[0m",
      "\u001b[0;31mNameError\u001b[0m                                 Traceback (most recent call last)",
      "\u001b[0;32m<ipython-input-33-78d528053fce>\u001b[0m in \u001b[0;36m<module>\u001b[0;34m\u001b[0m\n\u001b[1;32m     25\u001b[0m \u001b[0mZCAMatrix\u001b[0m \u001b[0;31m# [5 x 5] matrix\u001b[0m\u001b[0;34m\u001b[0m\u001b[0;34m\u001b[0m\u001b[0m\n\u001b[1;32m     26\u001b[0m \u001b[0;34m\u001b[0m\u001b[0m\n\u001b[0;32m---> 27\u001b[0;31m \u001b[0mmse_model\u001b[0m\u001b[0;34m\u001b[0m\u001b[0;34m\u001b[0m\u001b[0m\n\u001b[0m",
      "\u001b[0;31mNameError\u001b[0m: name 'mse_model' is not defined"
     ]
    }
   ],
   "source": [
    "import numpy as np\n",
    "def zca_whitening_matrix(X):\n",
    "    \"\"\"\n",
    "    Function to compute ZCA whitening matrix (aka Mahalanobis whitening).\n",
    "    INPUT:  X: [M x N] matrix.\n",
    "        Rows: VariablesQ\n",
    "        Columns: Observations\n",
    "    OUTPUT: ZCAMatrix: [M x M] matrix\n",
    "    \"\"\"\n",
    "    # Covariance matrix [column-wise variables]: Sigma = (X-mu)' * (X-mu) / N\n",
    "    sigma = np.cov(X, rowvar=True) # [M x M]\n",
    "    # Singular Value Decomposition. X = U * np.diag(S) * V\n",
    "    U,S,V = np.linalg.svd(sigma)\n",
    "        # U: [M x M] eigenvectors of sigma.\n",
    "        # S: [M x 1] eigenvalues of sigma.\n",
    "        # V: [M x M] transpose of U\n",
    "    # Whitening constant: prevents division by zero\n",
    "    epsilon = 1e-5\n",
    "    # ZCA Whitening matrix: U * Lambda * U'\n",
    "    ZCAMatrix = np.dot(U, np.dot(np.diag(1.0/np.sqrt(S + epsilon)), U.T)) # [M x M]\n",
    "    return ZCAMatrix\n",
    "\n",
    "X = np.array([[0, 2, 2], [1, 1, 0], [2, 0, 1], [1, 3, 5], [10, 10, 10] ]) # Input: X [5 x 3] matrix\n",
    "ZCAMatrix = zca_whitening_matrix(X) # get ZCAMatrix\n",
    "ZCAMatrix # [5 x 5] matrix\n",
    "\n",
    "mse_model"
   ]
  }
 ],
 "metadata": {
  "kernelspec": {
   "display_name": "Python 3.7 (tensorflow)",
   "language": "python",
   "name": "tensorflow"
  },
  "language_info": {
   "codemirror_mode": {
    "name": "ipython",
    "version": 3
   },
   "file_extension": ".py",
   "mimetype": "text/x-python",
   "name": "python",
   "nbconvert_exporter": "python",
   "pygments_lexer": "ipython3",
   "version": "3.7.7"
  }
 },
 "nbformat": 4,
 "nbformat_minor": 4
}
